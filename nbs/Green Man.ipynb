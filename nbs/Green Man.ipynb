{
 "cells": [
  {
   "cell_type": "markdown",
   "metadata": {},
   "source": [
    "# Green Man\n",
    "\n",
    "<br>\n",
    "\n",
    "### Imports"
   ]
  },
  {
   "cell_type": "code",
   "execution_count": 1,
   "metadata": {},
   "outputs": [],
   "source": [
    "import pandas as pd\n",
    "import numpy as np\n",
    "\n",
    "import matplotlib.pyplot as plt\n",
    "import seaborn as sns\n",
    "\n",
    "import requests\n",
    "from bs4 import BeautifulSoup \n",
    "\n",
    "from IPython.core.display import display, HTML"
   ]
  },
  {
   "cell_type": "code",
   "execution_count": null,
   "metadata": {},
   "outputs": [],
   "source": []
  },
  {
   "cell_type": "code",
   "execution_count": 2,
   "metadata": {},
   "outputs": [
    {
     "data": {
      "text/plain": [
       "<Response [200]>"
      ]
     },
     "execution_count": 2,
     "metadata": {},
     "output_type": "execute_result"
    }
   ],
   "source": [
    "lineup_url = 'https://www.greenman.net/line-up/2020/'\n",
    "\n",
    "lineup_r = requests.get(lineup_url)\n",
    "lineup_soup = BeautifulSoup(lineup_r.content) \n",
    "\n",
    "lineup_r"
   ]
  },
  {
   "cell_type": "code",
   "execution_count": null,
   "metadata": {},
   "outputs": [],
   "source": []
  },
  {
   "cell_type": "code",
   "execution_count": 3,
   "metadata": {},
   "outputs": [
    {
     "data": {
      "text/html": [
       "<div>\n",
       "<style scoped>\n",
       "    .dataframe tbody tr th:only-of-type {\n",
       "        vertical-align: middle;\n",
       "    }\n",
       "\n",
       "    .dataframe tbody tr th {\n",
       "        vertical-align: top;\n",
       "    }\n",
       "\n",
       "    .dataframe thead th {\n",
       "        text-align: right;\n",
       "    }\n",
       "</style>\n",
       "<table border=\"1\" class=\"dataframe\">\n",
       "  <thead>\n",
       "    <tr style=\"text-align: right;\">\n",
       "      <th></th>\n",
       "      <th>performer</th>\n",
       "      <th>url</th>\n",
       "    </tr>\n",
       "  </thead>\n",
       "  <tbody>\n",
       "    <tr>\n",
       "      <th>0</th>\n",
       "      <td>Michael Kiwanuka</td>\n",
       "      <td>https://www.greenman.net/artists/michael-kiwanuka</td>\n",
       "    </tr>\n",
       "    <tr>\n",
       "      <th>1</th>\n",
       "      <td>Caribou</td>\n",
       "      <td>https://www.greenman.net/artists/caribou</td>\n",
       "    </tr>\n",
       "    <tr>\n",
       "      <th>2</th>\n",
       "      <td>Mac Demarco</td>\n",
       "      <td>https://www.greenman.net/artists/mac-demarco</td>\n",
       "    </tr>\n",
       "    <tr>\n",
       "      <th>3</th>\n",
       "      <td>Little Dragon</td>\n",
       "      <td>https://www.greenman.net/artists/little-dragon</td>\n",
       "    </tr>\n",
       "    <tr>\n",
       "      <th>4</th>\n",
       "      <td>Goldfrapp</td>\n",
       "      <td>https://www.greenman.net/artists/goldfrapp</td>\n",
       "    </tr>\n",
       "  </tbody>\n",
       "</table>\n",
       "</div>"
      ],
      "text/plain": [
       "          performer                                                url\n",
       "0  Michael Kiwanuka  https://www.greenman.net/artists/michael-kiwanuka\n",
       "1           Caribou           https://www.greenman.net/artists/caribou\n",
       "2       Mac Demarco       https://www.greenman.net/artists/mac-demarco\n",
       "3     Little Dragon     https://www.greenman.net/artists/little-dragon\n",
       "4         Goldfrapp         https://www.greenman.net/artists/goldfrapp"
      ]
     },
     "execution_count": 3,
     "metadata": {},
     "output_type": "execute_result"
    }
   ],
   "source": [
    "performer_2_info = lambda performer: (performer.text, f\"https://www.greenman.net{performer.find('a').attrs['href'][5:]}\")\n",
    "\n",
    "def lineup_soup_2_df(soup):\n",
    "    performer_info = [performer_2_info(performer) for performer in soup.find_all('h5', {'itemprop':'performer'})]\n",
    "    df_performers = (pd.Series(performer_info)\n",
    "                     .apply(pd.Series)\n",
    "                     .rename(columns={\n",
    "                         0:'performer', \n",
    "                         1:'url'\n",
    "                     })\n",
    "                    )\n",
    "                                      \n",
    "    return df_performers\n",
    "                \n",
    "df_performers = lineup_soup_2_df(lineup_soup)\n",
    "                                      \n",
    "df_performers.head()"
   ]
  },
  {
   "cell_type": "code",
   "execution_count": null,
   "metadata": {},
   "outputs": [],
   "source": []
  },
  {
   "cell_type": "code",
   "execution_count": 4,
   "metadata": {},
   "outputs": [
    {
     "data": {
      "text/html": [
       "<div class=\"arrow_box\"><div class=\"row\"><div class=\"six columns equal\"><img alt=\"Michael Kiwanuka\" class=\"lazyload u-max-full-width\" src=\"//d2pqakzhfrqaqd.cloudfront.net/assets/files/25350/lead_press_shot_credit_olivia_rose_easy-resize_com.960x600w.jpg\" title=\"Michael Kiwanuka\"/><iframe allow=\"encrypted-media\" allowtransparency=\"true\" frameborder=\"0\" height=\"380\" src=\"https://open.spotify.com/embed/artist/0bzfPKdbXL5ezYW2z3UGQj\" width=\"300\"></iframe></div><div class=\"six columns equal\"><h1 class=\"artist-heading\">Michael Kiwanuka</h1><p>It’s comforting to know that even a musician as talented and experienced as Michael Kiwanuka battles imposter syndrome – which is why his latest album, KIWANUKA, is a statement of confidence, reflected in the brazen title (spelling mistakes be damned) and the might of its songs. Michael’s heavy flavour of seventies soul, ‘raw music for raw times’, samples US civil rights activists and supplies the kind of emotional intensity that only comes from an angry analogue perspective in an unsettled digital world. But at its core, this is soul, the hot buttered kind (the kind that sounds even better than a festival cheese toastie tastes).</p><p><strong>Country: United Kingdom</strong></p><p class=\"artist-site\"><a href=\"http://www.michaelkiwanuka.com\">michaelkiwanuka.com</a></p><div class=\"artist-links\"><p><a class=\"artist-social\" href=\"https://soundcloud.com/michaelkiwanuka\"><i class=\"fa fa-soundcloud\"></i></a><a class=\"artist-social\" href=\"https://www.facebook.com/MichaelKiwanuka/\"><i class=\"fa fa-facebook\"></i></a><a class=\"artist-social\" href=\"https://twitter.com/michaelkiwanuka\"><i class=\"fa fa-twitter\"></i></a><a class=\"artist-social\" href=\"https://www.polydor.co.uk\"><i class=\"fa fa-headphones\"></i> Polydor Records</a></p></div></div></div></div>"
      ],
      "text/plain": [
       "<IPython.core.display.HTML object>"
      ]
     },
     "metadata": {},
     "output_type": "display_data"
    }
   ],
   "source": [
    "def performer_url_2_soup(performer_url):\n",
    "    r = requests.get(performer_url)\n",
    "\n",
    "    soup = BeautifulSoup(r.content) \n",
    "    performer_soup = soup.find('div', attrs={'class':'arrow_box'})\n",
    "    \n",
    "    return performer_soup\n",
    "    \n",
    "performer_url = df_performers.iloc[0, 1]\n",
    "performer_soup = performer_url_2_soup(performer_url)\n",
    "\n",
    "display(HTML(str(performer_soup)))"
   ]
  },
  {
   "cell_type": "code",
   "execution_count": null,
   "metadata": {},
   "outputs": [],
   "source": []
  },
  {
   "cell_type": "code",
   "execution_count": null,
   "metadata": {},
   "outputs": [],
   "source": []
  },
  {
   "cell_type": "code",
   "execution_count": null,
   "metadata": {},
   "outputs": [],
   "source": []
  }
 ],
 "metadata": {
  "kernelspec": {
   "display_name": "Python 3",
   "language": "python",
   "name": "python3"
  },
  "language_info": {
   "codemirror_mode": {
    "name": "ipython",
    "version": 3
   },
   "file_extension": ".py",
   "mimetype": "text/x-python",
   "name": "python",
   "nbconvert_exporter": "python",
   "pygments_lexer": "ipython3",
   "version": "3.6.10"
  }
 },
 "nbformat": 4,
 "nbformat_minor": 4
}
