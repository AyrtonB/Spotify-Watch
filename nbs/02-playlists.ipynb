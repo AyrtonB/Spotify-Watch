{
 "cells": [
  {
   "cell_type": "code",
   "execution_count": 1,
   "metadata": {},
   "outputs": [],
   "source": [
    "# default_exp playlists"
   ]
  },
  {
   "cell_type": "markdown",
   "metadata": {},
   "source": [
    "# Playlists\n",
    "\n",
    "<br>\n",
    "\n",
    "### Imports"
   ]
  },
  {
   "cell_type": "code",
   "execution_count": 12,
   "metadata": {},
   "outputs": [],
   "source": [
    "#exports\n",
    "import pandas as pd\n",
    "import numpy as np\n",
    "\n",
    "import FEAutils as hlp\n",
    "import matplotlib.pyplot as plt\n",
    "import seaborn as sns\n",
    "\n",
    "import spotipy\n",
    "from spotipy.oauth2 import SpotifyClientCredentials\n",
    "\n",
    "import os\n",
    "import requests\n",
    "\n",
    "from spotifywatch.discography import retrieve_track_analysis, initialise_spotify_client\n",
    "\n",
    "from ipypb import track"
   ]
  },
  {
   "cell_type": "code",
   "execution_count": 16,
   "metadata": {},
   "outputs": [],
   "source": [
    "from IPython.display import JSON"
   ]
  },
  {
   "cell_type": "markdown",
   "metadata": {},
   "source": [
    "<br>\n",
    "\n",
    "### Spotipy Client Initialisation"
   ]
  },
  {
   "cell_type": "code",
   "execution_count": 3,
   "metadata": {},
   "outputs": [],
   "source": [
    "import dotenv\n",
    "_ = dotenv.load_dotenv('../.env')"
   ]
  },
  {
   "cell_type": "code",
   "execution_count": null,
   "metadata": {},
   "outputs": [],
   "source": []
  },
  {
   "cell_type": "code",
   "execution_count": 13,
   "metadata": {},
   "outputs": [
    {
     "data": {
      "text/plain": [
       "<spotipy.client.Spotify at 0x2174ca04a60>"
      ]
     },
     "execution_count": 13,
     "metadata": {},
     "output_type": "execute_result"
    }
   ],
   "source": [
    "sp = initialise_spotify_client()\n",
    "\n",
    "sp"
   ]
  },
  {
   "cell_type": "code",
   "execution_count": null,
   "metadata": {},
   "outputs": [],
   "source": []
  },
  {
   "cell_type": "code",
   "execution_count": 6,
   "metadata": {},
   "outputs": [],
   "source": [
    "#exports\n",
    "def setup_client_scopes():\n",
    "    client_id = os.getenv('SPOTIFY_ID')\n",
    "    \n",
    "    spotify_auth_url = 'https://accounts.spotify.com/authorize'\n",
    "    scopes = ['user-read-private', 'user-modify-playback-state', 'user-read-currently-playing']\n",
    "    \n",
    "    query_params = {\n",
    "        'client_id' : client_id,\n",
    "        'response_type' : 'code',\n",
    "        'redirect_uri' : 'http://osuked.com',\n",
    "        'scope' : ' '.join(scopes)\n",
    "    }\n",
    "    \n",
    "    r = requests.get(spotify_auth_url, params=query_params)\n",
    "    \n",
    "    return r"
   ]
  },
  {
   "cell_type": "code",
   "execution_count": 7,
   "metadata": {},
   "outputs": [
    {
     "data": {
      "text/plain": [
       "<Response [200]>"
      ]
     },
     "execution_count": 7,
     "metadata": {},
     "output_type": "execute_result"
    }
   ],
   "source": [
    "r = setup_client_scopes()\n",
    "\n",
    "r"
   ]
  },
  {
   "cell_type": "markdown",
   "metadata": {},
   "source": [
    "<br>\n",
    "\n",
    "### Playlist Data Retrieval"
   ]
  },
  {
   "cell_type": "code",
   "execution_count": 14,
   "metadata": {},
   "outputs": [],
   "source": [
    "#exports\n",
    "def get_album_art(track):    \n",
    "    track_meta = dict()\n",
    "    album_imgs = track['album']['images']\n",
    "    \n",
    "    if len(album_imgs) > 0:\n",
    "        track_meta['album_art_url'] = album_imgs[0]['url']\n",
    "        track_meta['album_art_height'] = album_imgs[0]['height']\n",
    "        track_meta['album_art_width'] = album_imgs[0]['width']\n",
    "        \n",
    "    return track_meta\n",
    "\n",
    "def get_album_data(track):\n",
    "    track_meta = dict()\n",
    "    \n",
    "    track_meta['album_uri'] = track['album']['uri']\n",
    "    track_meta['album_name'] = track['album']['name']\n",
    "    track_meta['release_date'] = track['album']['release_date']\n",
    "    \n",
    "    return track_meta\n",
    "\n",
    "def get_track_data(track):\n",
    "    track_meta = dict()\n",
    "    \n",
    "    track_meta['artist_names'] = ', '.join([artist['name'] for artist in track['artists']])\n",
    "    track_meta['artist_uris'] = ', '.join([artist['uri'] for artist in track['artists']])\n",
    "    track_meta.update(track['external_ids'])\n",
    "    \n",
    "    track_meta['disc_number'] = track['disc_number']\n",
    "    track_meta['duration_ms'] = track['duration_ms']\n",
    "    track_meta['name'] = track['name']\n",
    "    track_meta['track_uri'] = track['uri']\n",
    "    track_meta['track_number'] = track['track_number']\n",
    "    track_meta['popularity'] = track['popularity']\n",
    "    \n",
    "    return track_meta\n",
    "\n",
    "def get_playlist_track_metadata(playlist_items):\n",
    "    playlist_track_meta = []\n",
    "    \n",
    "    for playlist_entry in playlist_items['items']:\n",
    "        track_meta = dict()\n",
    "        \n",
    "        track_meta['date_added_to_playlist'] = playlist_entry['added_at']\n",
    "        track = playlist_entry['track']\n",
    "\n",
    "        extractor_funcs = [get_album_art, get_album_data, get_track_data]\n",
    "\n",
    "        for extractor_func in extractor_funcs:\n",
    "            track_meta.update(extractor_func(track))\n",
    "            \n",
    "        playlist_track_meta += [track_meta]\n",
    "        \n",
    "    return playlist_track_meta\n",
    "\n",
    "def retrieve_playlist_df(playlist_id='spotify:playlist:37i9dQZEVXcOwrS8NC07JJ', offset=0):\n",
    "    sp = initialise_spotify_client()\n",
    "    \n",
    "    playlist_items = sp.playlist_items(playlist_id, offset=offset)\n",
    "    playlist_track_meta = get_playlist_track_metadata(playlist_items)\n",
    "    df_playlist = pd.DataFrame(playlist_track_meta)\n",
    "\n",
    "    if len(playlist_items['items']) == playlist_items['limit']:\n",
    "        offset += playlist_items['limit']\n",
    "        df_playlist_remaining = retrieve_playlist_df(playlist_id, offset=offset)\n",
    "        df_playlist = df_playlist.append(df_playlist_remaining).reset_index(drop=True)\n",
    "        \n",
    "    df_playlist = retrieve_track_analysis(df_playlist, track_uri_col='track_uri')\n",
    "        \n",
    "    return df_playlist"
   ]
  },
  {
   "cell_type": "code",
   "execution_count": 9,
   "metadata": {},
   "outputs": [
    {
     "data": {
      "text/html": [
       "<div><span class=\"Text-label\" style=\"display:inline-block; overflow:hidden; white-space:nowrap; text-overflow:ellipsis; min-width:0; max-width:15ex; vertical-align:middle; text-align:right\"></span>\n",
       "<progress style=\"width:60ex\" max=\"30\" value=\"30\" class=\"Progress-main\"/></progress>\n",
       "<span class=\"Progress-label\"><strong>100%</strong></span>\n",
       "<span class=\"Iteration-label\">30/30</span>\n",
       "<span class=\"Time-label\">[00:02<00:00, 0.06s/it]</span></div>"
      ],
      "text/plain": [
       "\u001b[A\u001b[2K\r",
       " [████████████████████████████████████████████████████████████] 30/30 [00:02<00:00, 0.06s/it]"
      ]
     },
     "metadata": {},
     "output_type": "display_data"
    },
    {
     "data": {
      "text/html": [
       "<div>\n",
       "<style scoped>\n",
       "    .dataframe tbody tr th:only-of-type {\n",
       "        vertical-align: middle;\n",
       "    }\n",
       "\n",
       "    .dataframe tbody tr th {\n",
       "        vertical-align: top;\n",
       "    }\n",
       "\n",
       "    .dataframe thead th {\n",
       "        text-align: right;\n",
       "    }\n",
       "</style>\n",
       "<table border=\"1\" class=\"dataframe\">\n",
       "  <thead>\n",
       "    <tr style=\"text-align: right;\">\n",
       "      <th></th>\n",
       "      <th>date_added_to_playlist</th>\n",
       "      <th>album_art_url</th>\n",
       "      <th>album_art_height</th>\n",
       "      <th>album_art_width</th>\n",
       "      <th>album_uri</th>\n",
       "      <th>album_name</th>\n",
       "      <th>release_date</th>\n",
       "      <th>artist_names</th>\n",
       "      <th>artist_uris</th>\n",
       "      <th>isrc</th>\n",
       "      <th>...</th>\n",
       "      <th>key</th>\n",
       "      <th>loudness</th>\n",
       "      <th>speechiness</th>\n",
       "      <th>acousticness</th>\n",
       "      <th>instrumentalness</th>\n",
       "      <th>liveness</th>\n",
       "      <th>valence</th>\n",
       "      <th>tempo</th>\n",
       "      <th>mode</th>\n",
       "      <th>time_signature</th>\n",
       "    </tr>\n",
       "  </thead>\n",
       "  <tbody>\n",
       "    <tr>\n",
       "      <th>0</th>\n",
       "      <td>2020-12-28T00:00:00Z</td>\n",
       "      <td>https://i.scdn.co/image/ab67616d0000b2731702d8...</td>\n",
       "      <td>640.0</td>\n",
       "      <td>640.0</td>\n",
       "      <td>spotify:album:5wxOkqHT4xGadN56TAzF09</td>\n",
       "      <td>Colossal Youth</td>\n",
       "      <td>1980</td>\n",
       "      <td>Young Marble Giants</td>\n",
       "      <td>spotify:artist:0tQ2Q4y9iUkKszxXyB14ZH</td>\n",
       "      <td>GBCEL0700250</td>\n",
       "      <td>...</td>\n",
       "      <td>1</td>\n",
       "      <td>-14.719</td>\n",
       "      <td>0.2130</td>\n",
       "      <td>0.944</td>\n",
       "      <td>0.810000</td>\n",
       "      <td>0.0840</td>\n",
       "      <td>0.364</td>\n",
       "      <td>166.169</td>\n",
       "      <td>1</td>\n",
       "      <td>4</td>\n",
       "    </tr>\n",
       "    <tr>\n",
       "      <th>1</th>\n",
       "      <td>2020-12-28T00:00:00Z</td>\n",
       "      <td>https://i.scdn.co/image/ab67616d0000b273ef277a...</td>\n",
       "      <td>640.0</td>\n",
       "      <td>640.0</td>\n",
       "      <td>spotify:album:7KQ7mXqZTuMRvQKeM3WTAw</td>\n",
       "      <td>Fargo Year 2 (Songs from the Original MGM / FX...</td>\n",
       "      <td>2016-03-25</td>\n",
       "      <td>White Denim</td>\n",
       "      <td>spotify:artist:0RdRumkn2UydUjqytNJ2Cp</td>\n",
       "      <td>USQX91600261</td>\n",
       "      <td>...</td>\n",
       "      <td>2</td>\n",
       "      <td>-8.520</td>\n",
       "      <td>0.0327</td>\n",
       "      <td>0.195</td>\n",
       "      <td>0.000198</td>\n",
       "      <td>0.1230</td>\n",
       "      <td>0.798</td>\n",
       "      <td>121.159</td>\n",
       "      <td>1</td>\n",
       "      <td>4</td>\n",
       "    </tr>\n",
       "    <tr>\n",
       "      <th>2</th>\n",
       "      <td>2020-12-28T00:00:00Z</td>\n",
       "      <td>https://i.scdn.co/image/ab67616d0000b27310067a...</td>\n",
       "      <td>640.0</td>\n",
       "      <td>640.0</td>\n",
       "      <td>spotify:album:2jAxcrtHoGo7SNS0r27TKk</td>\n",
       "      <td>Love is All I Bring</td>\n",
       "      <td>2019-10-25</td>\n",
       "      <td>Althea And Donna</td>\n",
       "      <td>spotify:artist:5E8FbSTegbOlYAH4b2rZj2</td>\n",
       "      <td>GBAJE7700163</td>\n",
       "      <td>...</td>\n",
       "      <td>7</td>\n",
       "      <td>-8.634</td>\n",
       "      <td>0.1620</td>\n",
       "      <td>0.164</td>\n",
       "      <td>0</td>\n",
       "      <td>0.0458</td>\n",
       "      <td>0.925</td>\n",
       "      <td>80.766</td>\n",
       "      <td>1</td>\n",
       "      <td>4</td>\n",
       "    </tr>\n",
       "    <tr>\n",
       "      <th>3</th>\n",
       "      <td>2020-12-28T00:00:00Z</td>\n",
       "      <td>https://i.scdn.co/image/ab67616d0000b27333c6f2...</td>\n",
       "      <td>640.0</td>\n",
       "      <td>640.0</td>\n",
       "      <td>spotify:album:3Il1CWXA64e8gukuJZoj0e</td>\n",
       "      <td>One Two</td>\n",
       "      <td>2002-03-15</td>\n",
       "      <td>Sister Nancy</td>\n",
       "      <td>spotify:artist:21pMSs2JHWwwy2kp1QIIVB</td>\n",
       "      <td>USA2P0804886</td>\n",
       "      <td>...</td>\n",
       "      <td>9</td>\n",
       "      <td>-6.813</td>\n",
       "      <td>0.2870</td>\n",
       "      <td>0.673</td>\n",
       "      <td>0.000002</td>\n",
       "      <td>0.3640</td>\n",
       "      <td>0.873</td>\n",
       "      <td>77.950</td>\n",
       "      <td>0</td>\n",
       "      <td>4</td>\n",
       "    </tr>\n",
       "    <tr>\n",
       "      <th>4</th>\n",
       "      <td>2020-12-28T00:00:00Z</td>\n",
       "      <td>https://i.scdn.co/image/ab67616d0000b273bc80ca...</td>\n",
       "      <td>640.0</td>\n",
       "      <td>640.0</td>\n",
       "      <td>spotify:album:63FlYaIy0oT8gYdCxBqBNe</td>\n",
       "      <td>Pickled Eggs and Sherbet</td>\n",
       "      <td>1999-01-01</td>\n",
       "      <td>The All Seeing I</td>\n",
       "      <td>spotify:artist:0A0yu52zNGKe2rtr9wHfkD</td>\n",
       "      <td>GBANR9900075</td>\n",
       "      <td>...</td>\n",
       "      <td>10</td>\n",
       "      <td>-9.136</td>\n",
       "      <td>0.0790</td>\n",
       "      <td>0.184</td>\n",
       "      <td>0.474000</td>\n",
       "      <td>0.1310</td>\n",
       "      <td>0.691</td>\n",
       "      <td>154.862</td>\n",
       "      <td>1</td>\n",
       "      <td>4</td>\n",
       "    </tr>\n",
       "  </tbody>\n",
       "</table>\n",
       "<p>5 rows × 28 columns</p>\n",
       "</div>"
      ],
      "text/plain": [
       "  date_added_to_playlist                                      album_art_url  \\\n",
       "0   2020-12-28T00:00:00Z  https://i.scdn.co/image/ab67616d0000b2731702d8...   \n",
       "1   2020-12-28T00:00:00Z  https://i.scdn.co/image/ab67616d0000b273ef277a...   \n",
       "2   2020-12-28T00:00:00Z  https://i.scdn.co/image/ab67616d0000b27310067a...   \n",
       "3   2020-12-28T00:00:00Z  https://i.scdn.co/image/ab67616d0000b27333c6f2...   \n",
       "4   2020-12-28T00:00:00Z  https://i.scdn.co/image/ab67616d0000b273bc80ca...   \n",
       "\n",
       "   album_art_height  album_art_width                             album_uri  \\\n",
       "0             640.0            640.0  spotify:album:5wxOkqHT4xGadN56TAzF09   \n",
       "1             640.0            640.0  spotify:album:7KQ7mXqZTuMRvQKeM3WTAw   \n",
       "2             640.0            640.0  spotify:album:2jAxcrtHoGo7SNS0r27TKk   \n",
       "3             640.0            640.0  spotify:album:3Il1CWXA64e8gukuJZoj0e   \n",
       "4             640.0            640.0  spotify:album:63FlYaIy0oT8gYdCxBqBNe   \n",
       "\n",
       "                                          album_name release_date  \\\n",
       "0                                     Colossal Youth         1980   \n",
       "1  Fargo Year 2 (Songs from the Original MGM / FX...   2016-03-25   \n",
       "2                                Love is All I Bring   2019-10-25   \n",
       "3                                            One Two   2002-03-15   \n",
       "4                           Pickled Eggs and Sherbet   1999-01-01   \n",
       "\n",
       "          artist_names                            artist_uris          isrc  \\\n",
       "0  Young Marble Giants  spotify:artist:0tQ2Q4y9iUkKszxXyB14ZH  GBCEL0700250   \n",
       "1          White Denim  spotify:artist:0RdRumkn2UydUjqytNJ2Cp  USQX91600261   \n",
       "2     Althea And Donna  spotify:artist:5E8FbSTegbOlYAH4b2rZj2  GBAJE7700163   \n",
       "3         Sister Nancy  spotify:artist:21pMSs2JHWwwy2kp1QIIVB  USA2P0804886   \n",
       "4     The All Seeing I  spotify:artist:0A0yu52zNGKe2rtr9wHfkD  GBANR9900075   \n",
       "\n",
       "   ...  key loudness speechiness acousticness  instrumentalness  liveness  \\\n",
       "0  ...    1  -14.719      0.2130        0.944          0.810000    0.0840   \n",
       "1  ...    2   -8.520      0.0327        0.195          0.000198    0.1230   \n",
       "2  ...    7   -8.634      0.1620        0.164                 0    0.0458   \n",
       "3  ...    9   -6.813      0.2870        0.673          0.000002    0.3640   \n",
       "4  ...   10   -9.136      0.0790        0.184          0.474000    0.1310   \n",
       "\n",
       "  valence    tempo mode time_signature  \n",
       "0   0.364  166.169    1              4  \n",
       "1   0.798  121.159    1              4  \n",
       "2   0.925   80.766    1              4  \n",
       "3   0.873   77.950    0              4  \n",
       "4   0.691  154.862    1              4  \n",
       "\n",
       "[5 rows x 28 columns]"
      ]
     },
     "execution_count": 9,
     "metadata": {},
     "output_type": "execute_result"
    }
   ],
   "source": [
    "df_playlist = retrieve_playlist_df()\n",
    "\n",
    "df_playlist.head()"
   ]
  },
  {
   "cell_type": "code",
   "execution_count": null,
   "metadata": {},
   "outputs": [],
   "source": []
  },
  {
   "cell_type": "code",
   "execution_count": 15,
   "metadata": {},
   "outputs": [
    {
     "name": "stdout",
     "output_type": "stream",
     "text": [
      "Converted 01-discography.ipynb.\n",
      "Converted 02-playlists.ipynb.\n",
      "Converted 03-pipeline.ipynb.\n"
     ]
    }
   ],
   "source": [
    "#hide\n",
    "from nbdev.export import *\n",
    "notebook2script()"
   ]
  },
  {
   "cell_type": "code",
   "execution_count": null,
   "metadata": {},
   "outputs": [],
   "source": []
  }
 ],
 "metadata": {
  "kernelspec": {
   "display_name": "SpotifyWatch",
   "language": "python",
   "name": "spotifywatch"
  },
  "language_info": {
   "codemirror_mode": {
    "name": "ipython",
    "version": 3
   },
   "file_extension": ".py",
   "mimetype": "text/x-python",
   "name": "python",
   "nbconvert_exporter": "python",
   "pygments_lexer": "ipython3",
   "version": "3.9.1"
  }
 },
 "nbformat": 4,
 "nbformat_minor": 4
}
