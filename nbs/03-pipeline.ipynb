{
 "cells": [
  {
   "cell_type": "code",
   "execution_count": 1,
   "metadata": {},
   "outputs": [],
   "source": [
    "# default_exp pipeline"
   ]
  },
  {
   "cell_type": "markdown",
   "metadata": {},
   "source": [
    "# Pipeline\n",
    "\n",
    "<br>\n",
    "\n",
    "### Imports"
   ]
  },
  {
   "cell_type": "code",
   "execution_count": 2,
   "metadata": {},
   "outputs": [],
   "source": [
    "#exports\n",
    "import pandas as pd\n",
    "\n",
    "from spotifywatch import playlists\n",
    "from dagster import execute_pipeline, pipeline, solid, Field\n",
    "\n",
    "import os\n",
    "import dotenv"
   ]
  },
  {
   "cell_type": "markdown",
   "metadata": {},
   "source": [
    "<br>\n",
    "\n",
    "### Loading Environment Variables"
   ]
  },
  {
   "cell_type": "code",
   "execution_count": 3,
   "metadata": {},
   "outputs": [],
   "source": [
    "#hide\n",
    "_ = dotenv.load_dotenv('../.env')"
   ]
  },
  {
   "cell_type": "code",
   "execution_count": null,
   "metadata": {},
   "outputs": [],
   "source": []
  },
  {
   "cell_type": "code",
   "execution_count": 4,
   "metadata": {},
   "outputs": [],
   "source": [
    "#exports\n",
    "@solid()\n",
    "def retrieve_latest_discover_weekly(_, playlist_id: str='spotify:playlist:37i9dQZEVXcOwrS8NC07JJ'):\n",
    "    df_latest_discover_weekly = playlists.retrieve_playlist_df(playlist_id)\n",
    "        \n",
    "    return df_latest_discover_weekly\n",
    "\n",
    "@solid()\n",
    "def update_discover_weekly_archive(_, df_latest_discover_weekly, discover_weekly_archive_fp: str='data/playlists/discover_weekly.csv'):\n",
    "    df_discover_weekly_archive = (pd\n",
    "                                  .read_csv(discover_weekly_archive_fp)\n",
    "                                  .append(df_latest_discover_weekly)\n",
    "                                  .drop_duplicates()\n",
    "                                 )\n",
    "    \n",
    "    df_discover_weekly_archive.to_csv(discover_weekly_archive_fp, index=False)\n",
    "    \n",
    "    return df_discover_weekly_archive"
   ]
  },
  {
   "cell_type": "code",
   "execution_count": null,
   "metadata": {},
   "outputs": [],
   "source": []
  },
  {
   "cell_type": "code",
   "execution_count": 5,
   "metadata": {},
   "outputs": [],
   "source": [
    "#exports\n",
    "@pipeline\n",
    "def update_discover_weekly_archive_pipeline():  \n",
    "    df_latest_discover_weekly = retrieve_latest_discover_weekly()\n",
    "    update_discover_weekly_archive(df_latest_discover_weekly)"
   ]
  },
  {
   "cell_type": "code",
   "execution_count": null,
   "metadata": {},
   "outputs": [],
   "source": []
  },
  {
   "cell_type": "code",
   "execution_count": 6,
   "metadata": {},
   "outputs": [
    {
     "name": "stderr",
     "output_type": "stream",
     "text": [
      "\u001b[32m2021-01-02 19:34:50\u001b[0m - dagster - \u001b[34mDEBUG\u001b[0m - update_discover_weekly_archive_pipeline - 39b212be-bc36-490a-ad86-da40bbafcc2d - 23452 - ENGINE_EVENT - Starting initialization of resources [asset_store].\n",
      "\u001b[32m2021-01-02 19:34:50\u001b[0m - dagster - \u001b[34mDEBUG\u001b[0m - update_discover_weekly_archive_pipeline - 39b212be-bc36-490a-ad86-da40bbafcc2d - 23452 - ENGINE_EVENT - Finished initialization of resources [asset_store].\n",
      "\u001b[32m2021-01-02 19:34:50\u001b[0m - dagster - \u001b[34mDEBUG\u001b[0m - update_discover_weekly_archive_pipeline - 39b212be-bc36-490a-ad86-da40bbafcc2d - 23452 - PIPELINE_START - Started execution of pipeline \"update_discover_weekly_archive_pipeline\".\n",
      "\u001b[32m2021-01-02 19:34:50\u001b[0m - dagster - \u001b[34mDEBUG\u001b[0m - update_discover_weekly_archive_pipeline - 39b212be-bc36-490a-ad86-da40bbafcc2d - 23452 - ENGINE_EVENT - Executing steps in process (pid: 23452)\n",
      "\u001b[32m2021-01-02 19:34:50\u001b[0m - dagster - \u001b[34mDEBUG\u001b[0m - update_discover_weekly_archive_pipeline - 39b212be-bc36-490a-ad86-da40bbafcc2d - 23452 - retrieve_latest_discover_weekly.compute - STEP_START - Started execution of step \"retrieve_latest_discover_weekly.compute\".\n",
      "\u001b[32m2021-01-02 19:34:50\u001b[0m - dagster - \u001b[34mDEBUG\u001b[0m - update_discover_weekly_archive_pipeline - 39b212be-bc36-490a-ad86-da40bbafcc2d - 23452 - retrieve_latest_discover_weekly.compute - STEP_INPUT - Got input \"playlist_id\" of type \"String\". (Type check passed).\n"
     ]
    },
    {
     "data": {
      "text/html": [
       "<div><span class=\"Text-label\" style=\"display:inline-block; overflow:hidden; white-space:nowrap; text-overflow:ellipsis; min-width:0; max-width:15ex; vertical-align:middle; text-align:right\"></span>\n",
       "<progress style=\"width:60ex\" max=\"30\" value=\"30\" class=\"Progress-main\"/></progress>\n",
       "<span class=\"Progress-label\"><strong>100%</strong></span>\n",
       "<span class=\"Iteration-label\">30/30</span>\n",
       "<span class=\"Time-label\">[00:02<00:00, 0.06s/it]</span></div>"
      ],
      "text/plain": [
       "\u001b[A\u001b[2K\r",
       " [████████████████████████████████████████████████████████████] 30/30 [00:02<00:00, 0.06s/it]"
      ]
     },
     "metadata": {},
     "output_type": "display_data"
    },
    {
     "name": "stderr",
     "output_type": "stream",
     "text": [
      "\u001b[32m2021-01-02 19:34:52\u001b[0m - dagster - \u001b[34mDEBUG\u001b[0m - update_discover_weekly_archive_pipeline - 39b212be-bc36-490a-ad86-da40bbafcc2d - 23452 - retrieve_latest_discover_weekly.compute - STEP_OUTPUT - Yielded output \"result\" of type \"Any\". (Type check passed).\n",
      "\u001b[32m2021-01-02 19:34:52\u001b[0m - dagster - \u001b[34mDEBUG\u001b[0m - update_discover_weekly_archive_pipeline - 39b212be-bc36-490a-ad86-da40bbafcc2d - 23452 - retrieve_latest_discover_weekly.compute - OBJECT_STORE_OPERATION - Stored intermediate object for output result in memory object store using pickle.\n",
      "\u001b[32m2021-01-02 19:34:52\u001b[0m - dagster - \u001b[34mDEBUG\u001b[0m - update_discover_weekly_archive_pipeline - 39b212be-bc36-490a-ad86-da40bbafcc2d - 23452 - retrieve_latest_discover_weekly.compute - STEP_SUCCESS - Finished execution of step \"retrieve_latest_discover_weekly.compute\" in 2.3s.\n",
      "\u001b[32m2021-01-02 19:34:52\u001b[0m - dagster - \u001b[34mDEBUG\u001b[0m - update_discover_weekly_archive_pipeline - 39b212be-bc36-490a-ad86-da40bbafcc2d - 23452 - update_discover_weekly_archive.compute - STEP_START - Started execution of step \"update_discover_weekly_archive.compute\".\n",
      "\u001b[32m2021-01-02 19:34:52\u001b[0m - dagster - \u001b[34mDEBUG\u001b[0m - update_discover_weekly_archive_pipeline - 39b212be-bc36-490a-ad86-da40bbafcc2d - 23452 - update_discover_weekly_archive.compute - OBJECT_STORE_OPERATION - Retrieved intermediate object for input df_latest_discover_weekly in memory object store using pickle.\n",
      "\u001b[32m2021-01-02 19:34:52\u001b[0m - dagster - \u001b[34mDEBUG\u001b[0m - update_discover_weekly_archive_pipeline - 39b212be-bc36-490a-ad86-da40bbafcc2d - 23452 - update_discover_weekly_archive.compute - STEP_INPUT - Got input \"df_latest_discover_weekly\" of type \"Any\". (Type check passed).\n",
      "\u001b[32m2021-01-02 19:34:52\u001b[0m - dagster - \u001b[34mDEBUG\u001b[0m - update_discover_weekly_archive_pipeline - 39b212be-bc36-490a-ad86-da40bbafcc2d - 23452 - update_discover_weekly_archive.compute - STEP_INPUT - Got input \"discover_weekly_archive_fp\" of type \"String\". (Type check passed).\n",
      "\u001b[32m2021-01-02 19:34:52\u001b[0m - dagster - \u001b[34mDEBUG\u001b[0m - update_discover_weekly_archive_pipeline - 39b212be-bc36-490a-ad86-da40bbafcc2d - 23452 - update_discover_weekly_archive.compute - STEP_OUTPUT - Yielded output \"result\" of type \"Any\". (Type check passed).\n",
      "\u001b[32m2021-01-02 19:34:52\u001b[0m - dagster - \u001b[34mDEBUG\u001b[0m - update_discover_weekly_archive_pipeline - 39b212be-bc36-490a-ad86-da40bbafcc2d - 23452 - update_discover_weekly_archive.compute - OBJECT_STORE_OPERATION - Stored intermediate object for output result in memory object store using pickle.\n",
      "\u001b[32m2021-01-02 19:34:52\u001b[0m - dagster - \u001b[34mDEBUG\u001b[0m - update_discover_weekly_archive_pipeline - 39b212be-bc36-490a-ad86-da40bbafcc2d - 23452 - update_discover_weekly_archive.compute - STEP_SUCCESS - Finished execution of step \"update_discover_weekly_archive.compute\" in 75ms.\n",
      "\u001b[32m2021-01-02 19:34:52\u001b[0m - dagster - \u001b[34mDEBUG\u001b[0m - update_discover_weekly_archive_pipeline - 39b212be-bc36-490a-ad86-da40bbafcc2d - 23452 - ENGINE_EVENT - Finished steps in process (pid: 23452) in 2.4s\n",
      "\u001b[32m2021-01-02 19:34:52\u001b[0m - dagster - \u001b[34mDEBUG\u001b[0m - update_discover_weekly_archive_pipeline - 39b212be-bc36-490a-ad86-da40bbafcc2d - 23452 - PIPELINE_SUCCESS - Finished execution of pipeline \"update_discover_weekly_archive_pipeline\".\n"
     ]
    },
    {
     "data": {
      "text/plain": [
       "<dagster.core.execution.results.PipelineExecutionResult at 0x1e46ee06460>"
      ]
     },
     "execution_count": 6,
     "metadata": {},
     "output_type": "execute_result"
    }
   ],
   "source": [
    "run_config = {\n",
    "    'solids': {\n",
    "        'retrieve_latest_discover_weekly': {\n",
    "            'inputs': {\n",
    "                'playlist_id': 'spotify:playlist:37i9dQZEVXcOwrS8NC07JJ'\n",
    "            },\n",
    "        },\n",
    "        'update_discover_weekly_archive': {\n",
    "            'inputs': {\n",
    "                'discover_weekly_archive_fp': '../data/playlists/discover_weekly.csv',\n",
    "            },\n",
    "        },\n",
    "    }\n",
    "}\n",
    "\n",
    "execute_pipeline(update_discover_weekly_archive_pipeline, run_config=run_config)"
   ]
  },
  {
   "cell_type": "code",
   "execution_count": null,
   "metadata": {},
   "outputs": [],
   "source": []
  },
  {
   "cell_type": "code",
   "execution_count": 7,
   "metadata": {},
   "outputs": [
    {
     "name": "stdout",
     "output_type": "stream",
     "text": [
      "Converted 01-discography.ipynb.\n",
      "Converted 02-playlists.ipynb.\n",
      "Converted 03-pipeline.ipynb.\n"
     ]
    }
   ],
   "source": [
    "#hide\n",
    "from nbdev.export import *\n",
    "notebook2script()"
   ]
  },
  {
   "cell_type": "code",
   "execution_count": null,
   "metadata": {},
   "outputs": [],
   "source": []
  }
 ],
 "metadata": {
  "kernelspec": {
   "display_name": "SpotifyWatch",
   "language": "python",
   "name": "spotifywatch"
  },
  "language_info": {
   "codemirror_mode": {
    "name": "ipython",
    "version": 3
   },
   "file_extension": ".py",
   "mimetype": "text/x-python",
   "name": "python",
   "nbconvert_exporter": "python",
   "pygments_lexer": "ipython3",
   "version": "3.9.1"
  }
 },
 "nbformat": 4,
 "nbformat_minor": 4
}
